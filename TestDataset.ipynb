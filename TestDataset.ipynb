{
  "nbformat": 4,
  "nbformat_minor": 0,
  "metadata": {
    "colab": {
      "name": "TestDataset.ipynb",
      "provenance": []
    },
    "kernelspec": {
      "name": "python3",
      "display_name": "Python 3"
    }
  },
  "cells": [
    {
      "cell_type": "markdown",
      "metadata": {
        "id": "o3tRBZb8Np4J"
      },
      "source": [
        "The dataset has been taken from Data World which is free and open data community."
      ]
    },
    {
      "cell_type": "code",
      "metadata": {
        "id": "MqUjB0VtCRau"
      },
      "source": [
        "import pandas as pd"
      ],
      "execution_count": 1,
      "outputs": []
    },
    {
      "cell_type": "code",
      "metadata": {
        "colab": {
          "base_uri": "https://localhost:8080/",
          "height": 442
        },
        "id": "7qFZQcNBCVsC",
        "outputId": "48a2d2a8-a158-4b87-cb9a-8fb8a722e479"
      },
      "source": [
        "df = pd.read_csv('https://query.data.world/s/5zp7kqkhp6aycvezneyvw4s5vncwyp')\n",
        "df.head()"
      ],
      "execution_count": 2,
      "outputs": [
        {
          "output_type": "execute_result",
          "data": {
            "text/html": [
              "<div>\n",
              "<style scoped>\n",
              "    .dataframe tbody tr th:only-of-type {\n",
              "        vertical-align: middle;\n",
              "    }\n",
              "\n",
              "    .dataframe tbody tr th {\n",
              "        vertical-align: top;\n",
              "    }\n",
              "\n",
              "    .dataframe thead th {\n",
              "        text-align: right;\n",
              "    }\n",
              "</style>\n",
              "<table border=\"1\" class=\"dataframe\">\n",
              "  <thead>\n",
              "    <tr style=\"text-align: right;\">\n",
              "      <th></th>\n",
              "      <th>WeekID</th>\n",
              "      <th>Unnamed: 0</th>\n",
              "      <th>url</th>\n",
              "      <th>Week Position</th>\n",
              "      <th>Song</th>\n",
              "      <th>Performer</th>\n",
              "      <th>SongID</th>\n",
              "      <th>Instance</th>\n",
              "      <th>Previous Week Position</th>\n",
              "      <th>Peak Position</th>\n",
              "      <th>Weeks on Chart</th>\n",
              "      <th>Lyrics</th>\n",
              "      <th>Sentiment</th>\n",
              "    </tr>\n",
              "  </thead>\n",
              "  <tbody>\n",
              "    <tr>\n",
              "      <th>0</th>\n",
              "      <td>1958-08-02</td>\n",
              "      <td>7969</td>\n",
              "      <td>http://www.billboard.com/charts/hot-100/1958-0...</td>\n",
              "      <td>62</td>\n",
              "      <td>For Your Love</td>\n",
              "      <td>Ed Townsend</td>\n",
              "      <td>For Your LoveEd Townsend</td>\n",
              "      <td>1</td>\n",
              "      <td>NaN</td>\n",
              "      <td>62</td>\n",
              "      <td>1</td>\n",
              "      <td>For your love, oh, I would do anything\\nI woul...</td>\n",
              "      <td>0.500000</td>\n",
              "    </tr>\n",
              "    <tr>\n",
              "      <th>1</th>\n",
              "      <td>1958-08-02</td>\n",
              "      <td>1176</td>\n",
              "      <td>http://www.billboard.com/charts/hot-100/1958-0...</td>\n",
              "      <td>20</td>\n",
              "      <td>Do You Want To Dance</td>\n",
              "      <td>Bobby Freeman</td>\n",
              "      <td>Do You Want To DanceBobby Freeman</td>\n",
              "      <td>1</td>\n",
              "      <td>NaN</td>\n",
              "      <td>20</td>\n",
              "      <td>1</td>\n",
              "      <td>Do you want to dance and hold my hand?\\nTell m...</td>\n",
              "      <td>0.000000</td>\n",
              "    </tr>\n",
              "    <tr>\n",
              "      <th>2</th>\n",
              "      <td>1958-08-02</td>\n",
              "      <td>7536</td>\n",
              "      <td>http://www.billboard.com/charts/hot-100/1958-0...</td>\n",
              "      <td>52</td>\n",
              "      <td>Early In The Morning</td>\n",
              "      <td>The Rinky-Dinks</td>\n",
              "      <td>Early In The MorningThe Rinky-Dinks</td>\n",
              "      <td>1</td>\n",
              "      <td>NaN</td>\n",
              "      <td>52</td>\n",
              "      <td>1</td>\n",
              "      <td>Well...\\n\\nYou're gonna miss me\\nEarly in the ...</td>\n",
              "      <td>0.028175</td>\n",
              "    </tr>\n",
              "    <tr>\n",
              "      <th>3</th>\n",
              "      <td>1958-08-02</td>\n",
              "      <td>7028</td>\n",
              "      <td>http://www.billboard.com/charts/hot-100/1958-0...</td>\n",
              "      <td>17</td>\n",
              "      <td>Endless Sleep</td>\n",
              "      <td>Jody Reynolds</td>\n",
              "      <td>Endless SleepJody Reynolds</td>\n",
              "      <td>1</td>\n",
              "      <td>NaN</td>\n",
              "      <td>17</td>\n",
              "      <td>1</td>\n",
              "      <td>VERSE 1\\nThe night was black, rain falling dow...</td>\n",
              "      <td>-0.089815</td>\n",
              "    </tr>\n",
              "    <tr>\n",
              "      <th>4</th>\n",
              "      <td>1958-08-02</td>\n",
              "      <td>27738</td>\n",
              "      <td>http://www.billboard.com/charts/hot-100/1958-0...</td>\n",
              "      <td>57</td>\n",
              "      <td>You Need Hands</td>\n",
              "      <td>Eydie Gorme</td>\n",
              "      <td>You Need HandsEydie Gorme</td>\n",
              "      <td>1</td>\n",
              "      <td>NaN</td>\n",
              "      <td>57</td>\n",
              "      <td>1</td>\n",
              "      <td>You need hands\\nTo hold someone you care for\\n...</td>\n",
              "      <td>0.278788</td>\n",
              "    </tr>\n",
              "  </tbody>\n",
              "</table>\n",
              "</div>"
            ],
            "text/plain": [
              "       WeekID  ...  Sentiment\n",
              "0  1958-08-02  ...   0.500000\n",
              "1  1958-08-02  ...   0.000000\n",
              "2  1958-08-02  ...   0.028175\n",
              "3  1958-08-02  ...  -0.089815\n",
              "4  1958-08-02  ...   0.278788\n",
              "\n",
              "[5 rows x 13 columns]"
            ]
          },
          "metadata": {
            "tags": []
          },
          "execution_count": 2
        }
      ]
    },
    {
      "cell_type": "code",
      "metadata": {
        "id": "7ZnPDuSRYL3a"
      },
      "source": [
        "df['WeekID'] =pd.to_datetime(df.WeekID)\n",
        "df['Year'] = pd.DatetimeIndex(df['WeekID']).year"
      ],
      "execution_count": 3,
      "outputs": []
    },
    {
      "cell_type": "code",
      "metadata": {
        "id": "8qGf_4NcFjAM"
      },
      "source": [
        "df=df[['Lyrics','Sentiment','Week Position','Year']]"
      ],
      "execution_count": 4,
      "outputs": []
    },
    {
      "cell_type": "code",
      "metadata": {
        "colab": {
          "base_uri": "https://localhost:8080/",
          "height": 204
        },
        "id": "XSWY3imWG3xT",
        "outputId": "2d49746f-d20b-4d79-ad52-9fd48560eb24"
      },
      "source": [
        "df.head()"
      ],
      "execution_count": 5,
      "outputs": [
        {
          "output_type": "execute_result",
          "data": {
            "text/html": [
              "<div>\n",
              "<style scoped>\n",
              "    .dataframe tbody tr th:only-of-type {\n",
              "        vertical-align: middle;\n",
              "    }\n",
              "\n",
              "    .dataframe tbody tr th {\n",
              "        vertical-align: top;\n",
              "    }\n",
              "\n",
              "    .dataframe thead th {\n",
              "        text-align: right;\n",
              "    }\n",
              "</style>\n",
              "<table border=\"1\" class=\"dataframe\">\n",
              "  <thead>\n",
              "    <tr style=\"text-align: right;\">\n",
              "      <th></th>\n",
              "      <th>Lyrics</th>\n",
              "      <th>Sentiment</th>\n",
              "      <th>Week Position</th>\n",
              "      <th>Year</th>\n",
              "    </tr>\n",
              "  </thead>\n",
              "  <tbody>\n",
              "    <tr>\n",
              "      <th>0</th>\n",
              "      <td>For your love, oh, I would do anything\\nI woul...</td>\n",
              "      <td>0.500000</td>\n",
              "      <td>62</td>\n",
              "      <td>1958</td>\n",
              "    </tr>\n",
              "    <tr>\n",
              "      <th>1</th>\n",
              "      <td>Do you want to dance and hold my hand?\\nTell m...</td>\n",
              "      <td>0.000000</td>\n",
              "      <td>20</td>\n",
              "      <td>1958</td>\n",
              "    </tr>\n",
              "    <tr>\n",
              "      <th>2</th>\n",
              "      <td>Well...\\n\\nYou're gonna miss me\\nEarly in the ...</td>\n",
              "      <td>0.028175</td>\n",
              "      <td>52</td>\n",
              "      <td>1958</td>\n",
              "    </tr>\n",
              "    <tr>\n",
              "      <th>3</th>\n",
              "      <td>VERSE 1\\nThe night was black, rain falling dow...</td>\n",
              "      <td>-0.089815</td>\n",
              "      <td>17</td>\n",
              "      <td>1958</td>\n",
              "    </tr>\n",
              "    <tr>\n",
              "      <th>4</th>\n",
              "      <td>You need hands\\nTo hold someone you care for\\n...</td>\n",
              "      <td>0.278788</td>\n",
              "      <td>57</td>\n",
              "      <td>1958</td>\n",
              "    </tr>\n",
              "  </tbody>\n",
              "</table>\n",
              "</div>"
            ],
            "text/plain": [
              "                                              Lyrics  ...  Year\n",
              "0  For your love, oh, I would do anything\\nI woul...  ...  1958\n",
              "1  Do you want to dance and hold my hand?\\nTell m...  ...  1958\n",
              "2  Well...\\n\\nYou're gonna miss me\\nEarly in the ...  ...  1958\n",
              "3  VERSE 1\\nThe night was black, rain falling dow...  ...  1958\n",
              "4  You need hands\\nTo hold someone you care for\\n...  ...  1958\n",
              "\n",
              "[5 rows x 4 columns]"
            ]
          },
          "metadata": {
            "tags": []
          },
          "execution_count": 5
        }
      ]
    },
    {
      "cell_type": "code",
      "metadata": {
        "id": "_hqWYT0pG4wQ"
      },
      "source": [
        "#data cleaning: removing '\\n' and ['values']\n",
        "import re\n",
        "df['Lyrics']=df['Lyrics'].replace(r'\\n', ' ', regex=True)\n",
        "df['Lyrics']=df['Lyrics'].replace(r\"\\[(.*?)\\]\", \" \",regex=True)"
      ],
      "execution_count": 6,
      "outputs": []
    },
    {
      "cell_type": "code",
      "metadata": {
        "colab": {
          "base_uri": "https://localhost:8080/",
          "height": 204
        },
        "id": "zq9H1QLeH3lx",
        "outputId": "daf2e3b5-ef41-43d0-cff9-1093916148fc"
      },
      "source": [
        "df.head()"
      ],
      "execution_count": 7,
      "outputs": [
        {
          "output_type": "execute_result",
          "data": {
            "text/html": [
              "<div>\n",
              "<style scoped>\n",
              "    .dataframe tbody tr th:only-of-type {\n",
              "        vertical-align: middle;\n",
              "    }\n",
              "\n",
              "    .dataframe tbody tr th {\n",
              "        vertical-align: top;\n",
              "    }\n",
              "\n",
              "    .dataframe thead th {\n",
              "        text-align: right;\n",
              "    }\n",
              "</style>\n",
              "<table border=\"1\" class=\"dataframe\">\n",
              "  <thead>\n",
              "    <tr style=\"text-align: right;\">\n",
              "      <th></th>\n",
              "      <th>Lyrics</th>\n",
              "      <th>Sentiment</th>\n",
              "      <th>Week Position</th>\n",
              "      <th>Year</th>\n",
              "    </tr>\n",
              "  </thead>\n",
              "  <tbody>\n",
              "    <tr>\n",
              "      <th>0</th>\n",
              "      <td>For your love, oh, I would do anything I would...</td>\n",
              "      <td>0.500000</td>\n",
              "      <td>62</td>\n",
              "      <td>1958</td>\n",
              "    </tr>\n",
              "    <tr>\n",
              "      <th>1</th>\n",
              "      <td>Do you want to dance and hold my hand? Tell me...</td>\n",
              "      <td>0.000000</td>\n",
              "      <td>20</td>\n",
              "      <td>1958</td>\n",
              "    </tr>\n",
              "    <tr>\n",
              "      <th>2</th>\n",
              "      <td>Well...  You're gonna miss me Early in the mor...</td>\n",
              "      <td>0.028175</td>\n",
              "      <td>52</td>\n",
              "      <td>1958</td>\n",
              "    </tr>\n",
              "    <tr>\n",
              "      <th>3</th>\n",
              "      <td>VERSE 1 The night was black, rain falling down...</td>\n",
              "      <td>-0.089815</td>\n",
              "      <td>17</td>\n",
              "      <td>1958</td>\n",
              "    </tr>\n",
              "    <tr>\n",
              "      <th>4</th>\n",
              "      <td>You need hands To hold someone you care for Yo...</td>\n",
              "      <td>0.278788</td>\n",
              "      <td>57</td>\n",
              "      <td>1958</td>\n",
              "    </tr>\n",
              "  </tbody>\n",
              "</table>\n",
              "</div>"
            ],
            "text/plain": [
              "                                              Lyrics  ...  Year\n",
              "0  For your love, oh, I would do anything I would...  ...  1958\n",
              "1  Do you want to dance and hold my hand? Tell me...  ...  1958\n",
              "2  Well...  You're gonna miss me Early in the mor...  ...  1958\n",
              "3  VERSE 1 The night was black, rain falling down...  ...  1958\n",
              "4  You need hands To hold someone you care for Yo...  ...  1958\n",
              "\n",
              "[5 rows x 4 columns]"
            ]
          },
          "metadata": {
            "tags": []
          },
          "execution_count": 7
        }
      ]
    },
    {
      "cell_type": "code",
      "metadata": {
        "id": "NXLn4I0yXhuC"
      },
      "source": [
        "df.to_csv('test.csv')"
      ],
      "execution_count": 9,
      "outputs": []
    }
  ]
}